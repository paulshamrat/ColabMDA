{
  "cells": [
    {
      "cell_type": "markdown",
      "metadata": {
        "id": "30w5g92dVlOU"
      },
      "source": [
        "# 0 Preface\n",
        "\n",
        "**User friendly molecular dynamics simulation combining GROMACS (GROningen MAchine for Chemical Simulations) and Google Collaboratory framework:  A complete guide**\n",
        "\n",
        "This Jupyter notebook is designed to facilitate Molecular Dynamics (MD) simulations using GROMACS. It serves as an adaptable jupyter notebook for conducting MD simulations and accompanies the supplimentary file for the follwoing Article:\n",
        "\n",
        "**Molecular Dynamics Simulation of Wild and Mutant PSMB8 Protein Using Google Collaboratory Framework: Implications for the Restoration of Inflammation in Experimental Autoimmune Encephalomyelitis (EAE) Pathogenesis** ([link here](link will be updated asap)).\n",
        "\n",
        "---\n",
        "**Repository link:**\n",
        "- ColabMDA: https://github.com/paulshamrat/ColabMDA\n",
        "\n",
        "**Note and Acknowledgement:**\n",
        "\n",
        "We would like to thanks the authors who developed jupyter notebook framework for molecular dynamics simulation on google colab. Please always refer the original GROMACS manual for the simulaiton guide. We are grateful to the Authors of the follwoing article which made possible to adapt this md simulation protocol.\n",
        "\n",
        "- F. Engelberger, P. Galaz-Davison, G. Bravo, M. Rivera, and C. A. Ramírez-Sarmiento, “Developing and Implementing Cloud-Based Tutorials That Combine Bioinformatics Software, Interactive Coding, and Visualization Exercises for Distance Learning on Structural Bioinformatics,” J. Chem. Educ., vol. 98, no. 5, pp. 1801–1807, May 2021, doi: 10.1021/acs.jchemed.1c00022.\n",
        "\n",
        "- J. A. Lemkul, “From Proteins to Perturbed Hamiltonians: A Suite of Tutorials for the GROMACS-2018 Molecular Simulation Package [Article v1.0],” Living J. Comput. Mol. Sci., vol. 1, no. 1, pp. 5068–5068, 2019, doi: 10.33011/LIVECOMS.1.1.5068.\n",
        "\n",
        "- P. R. Arantes, M. D. Polêto, C. Pedebos, and R. Ligabue-Braun, “Making it Rain: Cloud-Based Molecular Simulations for Everyone.,” Journal of chemical information and modeling, vol. 61, no. 10. United States, pp. 4852–4856, Oct. 2021. doi: 10.1021/acs.jcim.1c00998.\n",
        "\n",
        "- R. J. Gowers, M. Linke, J. Barnoud, T. J. E. Reddy, M. N. Melo, S. L. Seyler, D. L. Dotson, J. Domanski, S. Buchoux, I. M. Kenney, and O. Beckstein. MDAnalysis: A Python package for the rapid analysis of molecular dynamics simulations. In S. Benthall and S. Rostrup, editors, Proceedings of the 15th Python in Science Conference, pages 98-105, Austin, TX, 2016. SciPy, doi:10.25080/majora-629e541a-00e.\n",
        "\n",
        "- Gowers, R. J., Linke, M., Barnoud, J., Reddy, T. J., Melo, M. N., Seyler, S. L., ... & Beckstein, O. (2016, July). MDAnalysis: a Python package for the rapid analysis of molecular dynamics simulations. In Proceedings of the 15th python in science conference (Vol. 98, p. 105). Austin, TX: SciPy.\n",
        "\n",
        "- Abraham, M. J., Murtola, T., Schulz, R., Páll, S., Smith, J. C., Hess, B., & Lindahl, E. (2015). GROMACS: High performance molecular simulations through multi-level parallelism from laptops to supercomputers. SoftwareX, 1, 19-25.\n"
      ]
    },
    {
      "cell_type": "markdown",
      "metadata": {
        "id": "hEP0q0S_NcnY"
      },
      "source": [
        "# 1 Installation"
      ]
    },
    {
      "cell_type": "code",
      "execution_count": null,
      "metadata": {
        "id": "4d5POjO6NyMh"
      },
      "outputs": [],
      "source": [
        "# NLP\n",
        "! python -m pip install nltk==3.5\n",
        "! python -m pip install numpy matplotlib\n",
        "\n",
        "# MDAnalysis\n",
        "! pip install --upgrade MDAnalysis\n",
        "! pip install --upgrade MDAnalysisTests\n",
        "! pip install --upgrade MDAnalysisData\n",
        "\n",
        "# mdtraj, nglview, cython, pytraj, tsplot\n",
        "# gnuplot, prody\n",
        "! pip install mdtraj\n",
        "! pip install nglview\n",
        "! pip install cython --upgrade\n",
        "! pip install pytraj\n",
        "! pip install tsplot"
      ]
    },
    {
      "cell_type": "markdown",
      "metadata": {
        "id": "l_1sSs3eN6_7"
      },
      "source": [
        "# 2 Mount Google Drive"
      ]
    },
    {
      "cell_type": "code",
      "execution_count": null,
      "metadata": {
        "colab": {
          "base_uri": "https://localhost:8080/"
        },
        "id": "eRuxsLHNN9Vx",
        "outputId": "844214a0-55fe-43c3-e8ff-a7f6e49bff59"
      },
      "outputs": [
        {
          "name": "stdout",
          "output_type": "stream",
          "text": [
            "Mounted at /content/gdrive\n"
          ]
        }
      ],
      "source": [
        "from google.colab import drive\n",
        "drive.mount('/content/gdrive')"
      ]
    },
    {
      "cell_type": "code",
      "execution_count": null,
      "metadata": {
        "colab": {
          "base_uri": "https://localhost:8080/"
        },
        "id": "nL-XWcBmN_dy",
        "outputId": "74dde1c4-dfd3-4e6d-fe78-7bbdb84d4dce"
      },
      "outputs": [
        {
          "name": "stdout",
          "output_type": "stream",
          "text": [
            "path already exists\n"
          ]
        }
      ],
      "source": [
        "#Let's make a folder first. We need to import the os and path library\n",
        "import os\n",
        "from pathlib import Path\n",
        "\n",
        "#Then, we define the path of the folder we want to create.\n",
        "#Notice that the HOME folder for a hosted runtime in colab is /content/\n",
        "mdpath = Path(\"u = mda.Universe('/content/gdrive/MyDrive/1aki/\")\n",
        "#mdpath = Path(\"/content\")\n",
        "\n",
        "\n",
        "#Now, we create the folder using the os.mkdir() command\n",
        "#The if conditional is just to check whether the folder already exists\n",
        "#In which case, python returns an error\n",
        "if os.path.exists(mdpath):\n",
        "  print(\"path already exists\")\n",
        "if not os.path.exists(mdpath):\n",
        "  os.mkdir(mdpath)\n",
        "  print(\"path was succesfully created\")\n",
        "\n",
        "# Change path\n",
        "#First, we will change to the new folder. We will use python now :)\n",
        "os.chdir(mdpath)"
      ]
    },
    {
      "cell_type": "markdown",
      "metadata": {
        "id": "AIIvZOfidyLl"
      },
      "source": [
        "# 3 Fundamental Dynamics Analysis"
      ]
    },
    {
      "cell_type": "markdown",
      "metadata": {},
      "source": [
        "## 3.1 GROMACS Energies Analysis\n"
      ]
    },
    {
      "cell_type": "markdown",
      "metadata": {},
      "source": [
        "### 3.1.a. Potential"
      ]
    },
    {
      "cell_type": "code",
      "execution_count": null,
      "metadata": {},
      "outputs": [],
      "source": [
        "import matplotlib.pyplot as plt\n",
        "plt.style.use('seaborn-whitegrid')\n",
        "import numpy as np\n",
        "\n",
        "# Wild type potential energy file\n",
        "wild_type_data = np.loadtxt('/content/gdrive/MyDrive/1aki/em_potential.xvg')\n",
        "\n",
        "# Mutant potential energy file\n",
        "mutant_data = np.loadtxt('/content/gdrive/MyDrive/1aki/em_potential.xvg')\n",
        "\n",
        "plt.title('Potential Energy during Minimization')\n",
        "plt.xlabel('Energy Minimization Step')\n",
        "plt.ylabel(r'E$_P$ [kJ•mol$^{-1}]$')\n",
        "\n",
        "# Plotting wild type potential energy\n",
        "plt.plot(wild_type_data[:,0], wild_type_data[:,1], linestyle='solid', linewidth='2', color='red', label='Wild Type')\n",
        "\n",
        "# Plotting mutant potential energy\n",
        "plt.plot(mutant_data[:,0], mutant_data[:,1], linestyle='solid', linewidth='2', color='blue', label='Mutant')\n",
        "\n",
        "plt.legend()\n",
        "\n",
        "# Save the plot as an image file (e.g., PNG)\n",
        "plt.savefig('potential_plot.png')\n",
        "\n",
        "# Show the plot\n",
        "plt.show()\n"
      ]
    },
    {
      "cell_type": "markdown",
      "metadata": {},
      "source": [
        "### 3.1.b. Temperature"
      ]
    },
    {
      "cell_type": "code",
      "execution_count": null,
      "metadata": {},
      "outputs": [],
      "source": [
        "import matplotlib.pyplot as plt\n",
        "plt.style.use('seaborn-whitegrid')\n",
        "import numpy as np\n",
        "\n",
        "# Wild type temperature file\n",
        "wild_type_data = np.loadtxt('/content/gdrive/MyDrive/1aki/nvt_temp.xvg')\n",
        "\n",
        "# Mutant temperature file\n",
        "mutant_data = np.loadtxt('/content/gdrive/MyDrive/1aki/nvt_temp.xvg')\n",
        "\n",
        "plt.title('Temperature during 1000 ps Equilibration (NVT)')\n",
        "plt.xlabel('Time (ps)')\n",
        "plt.ylabel('Temperature [K]')\n",
        "\n",
        "# Plotting wild type temperature\n",
        "plt.plot(wild_type_data[:,0], wild_type_data[:,1], linestyle='solid', linewidth='2', color='red', label='Wild Type')\n",
        "\n",
        "# Plotting mutant temperature\n",
        "plt.plot(mutant_data[:,0], mutant_data[:,1], linestyle='solid', linewidth='2', color='blue', label='Mutant')\n",
        "\n",
        "plt.legend()\n",
        "\n",
        "# Save the plot as an image file (e.g., PNG)\n",
        "plt.savefig('temperature_plot.png')\n",
        "\n",
        "# Show the plot\n",
        "plt.show()\n"
      ]
    },
    {
      "cell_type": "markdown",
      "metadata": {},
      "source": [
        "### 3.1.c. Pressure"
      ]
    },
    {
      "cell_type": "code",
      "execution_count": null,
      "metadata": {},
      "outputs": [],
      "source": [
        "import matplotlib.pyplot as plt\n",
        "plt.style.use('seaborn-whitegrid')\n",
        "import numpy as np\n",
        "\n",
        "# Wild type pressure file\n",
        "wild_type_data = np.loadtxt('/content/gdrive/MyDrive/1aki/npt_press_dens.xvg')\n",
        "\n",
        "# Mutant pressure file\n",
        "mutant_data = np.loadtxt('/content/gdrive/MyDrive/1aki/npt_press_dens.xvg')\n",
        "\n",
        "plt.title('Pressure during 1000 ps Equilibration (NPT)')\n",
        "plt.xlabel('Time (ps)')\n",
        "plt.ylabel('Pressure [bar]')\n",
        "plt.ylim(-500,500)\n",
        "\n",
        "# Smoothing using Savitzky-Golay\n",
        "from scipy.signal import savgol_filter\n",
        "wild_type_smoothed = savgol_filter(wild_type_data[:,1], 21, 5)\n",
        "mutant_smoothed = savgol_filter(mutant_data[:,1], 21, 5)\n",
        "\n",
        "# Plotting raw data and smoothed data for wild type\n",
        "plt.plot(wild_type_data[:,0], wild_type_data[:,1], linestyle='solid', linewidth='2', color='red', label='Raw - Wild Type')\n",
        "plt.plot(wild_type_data[:,0], wild_type_smoothed, linestyle='solid', linewidth='2', color='blue', label='Smoothed - Wild Type')\n",
        "\n",
        "# Plotting raw data and smoothed data for mutant\n",
        "plt.plot(mutant_data[:,0], mutant_data[:,1], linestyle='solid', linewidth='2', color='green', label='Raw - Mutant')\n",
        "plt.plot(mutant_data[:,0], mutant_smoothed, linestyle='solid', linewidth='2', color='purple', label='Smoothed - Mutant')\n",
        "\n",
        "plt.legend()\n",
        "\n",
        "# Save the plot as an image file (e.g., PNG)\n",
        "plt.savefig('pressure_plot.png')\n",
        "\n",
        "# Show the plot\n",
        "plt.show()\n"
      ]
    },
    {
      "cell_type": "markdown",
      "metadata": {},
      "source": [
        "### 3.1.d. Density"
      ]
    },
    {
      "cell_type": "code",
      "execution_count": null,
      "metadata": {},
      "outputs": [],
      "source": [
        "import matplotlib.pyplot as plt\n",
        "plt.style.use('seaborn-whitegrid')\n",
        "import numpy as np\n",
        "\n",
        "# Wild type density file\n",
        "wild_type_data = np.loadtxt('/content/gdrive/MyDrive/1aki/npt_press_dens.xvg')\n",
        "\n",
        "# Mutant density file\n",
        "mutant_data = np.loadtxt('/content/gdrive/MyDrive/1aki/npt_press_dens.xvg')\n",
        "\n",
        "plt.title('Density during 1000 ps Equilibration (NPT)')\n",
        "plt.xlabel('Time (ps)')\n",
        "plt.ylabel('Density [kg•m$^{-3}$]')\n",
        "plt.ylim(1000,1025)\n",
        "\n",
        "# Plotting wild type density\n",
        "plt.plot(wild_type_data[:,0], wild_type_data[:,2], linestyle='solid', linewidth='2', color='red', label='Wild Type')\n",
        "\n",
        "# Plotting mutant density\n",
        "plt.plot(mutant_data[:,0], mutant_data[:,2], linestyle='solid', linewidth='2', color='blue', label='Mutant')\n",
        "\n",
        "plt.legend()\n",
        "\n",
        "# Save the plot as an image file (e.g., PNG)\n",
        "plt.savefig('density_plot.png')\n",
        "\n",
        "# Show the plot\n",
        "plt.show()\n"
      ]
    },
    {
      "cell_type": "markdown",
      "metadata": {},
      "source": []
    },
    {
      "cell_type": "markdown",
      "metadata": {},
      "source": []
    },
    {
      "cell_type": "markdown",
      "metadata": {
        "id": "YiLX_1uaUpyb"
      },
      "source": [
        "## 3.2 RMSD RMSF-CA RG (Single Trajectory)"
      ]
    },
    {
      "cell_type": "markdown",
      "metadata": {
        "id": "HK_M5L1Gd2_V"
      },
      "source": [
        "### 3.2.a. RMSD"
      ]
    },
    {
      "cell_type": "code",
      "execution_count": null,
      "metadata": {
        "id": "UyJBJybRd2ay"
      },
      "outputs": [],
      "source": [
        "import MDAnalysis as mda\n",
        "# load the trajectory and topology files\n",
        "u = mda.Universe('/content/gdrive/MyDrive/1aki/1AKI_solv_ions.gro', '/content/gdrive/MyDrive/1aki/md_0_1.xtc')\n",
        "\n",
        "# select protein atoms for analysis\n",
        "protein = u.select_atoms('protein')"
      ]
    },
    {
      "cell_type": "code",
      "execution_count": null,
      "metadata": {
        "colab": {
          "base_uri": "https://localhost:8080/",
          "height": 449
        },
        "id": "veOE-NYXvxtk",
        "outputId": "3c43e2a8-2b16-483a-9de0-9719b579e9d1"
      },
      "outputs": [],
      "source": [
        "import MDAnalysis as mda\n",
        "from MDAnalysis.analysis import rms\n",
        "import matplotlib.pyplot as plt\n",
        "\n",
        "# load the trajectory and topology files\n",
        "u = mda.Universe('/content/gdrive/MyDrive/1aki/1AKI_solv_ions.gro', '/content/gdrive/MyDrive/1aki/md_0_1.xtc')\n",
        "\n",
        "# calculate the RMSD\n",
        "ref = u.select_atoms('protein')\n",
        "R = rms.RMSD(u, ref, select='backbone', groupselections=['protein'])\n",
        "R.run()\n",
        "\n",
        "# plot the RMSD\n",
        "plt.plot(R.rmsd[:,1], R.rmsd[:,2])\n",
        "plt.xlabel('Time (ps)')\n",
        "plt.ylabel('RMSD (Å)')\n",
        "\n",
        "# save the plot as a PNG file\n",
        "plt.savefig('rmsd_plot.png', dpi=300)\n",
        "\n",
        "# show the plot\n",
        "plt.show()\n"
      ]
    },
    {
      "cell_type": "markdown",
      "metadata": {
        "id": "24h0G4Dgd-HP"
      },
      "source": [
        "### 3.2.b. RMSF CA"
      ]
    },
    {
      "cell_type": "code",
      "execution_count": null,
      "metadata": {
        "colab": {
          "base_uri": "https://localhost:8080/",
          "height": 504
        },
        "id": "qq2acnbmd_JF",
        "outputId": "0ed919d6-d233-4546-8033-9c74f0d196b3"
      },
      "outputs": [],
      "source": [
        "# rmsf ;  c-alpha\n",
        "import MDAnalysis as mda\n",
        "from MDAnalysis.analysis import rms\n",
        "import numpy as np\n",
        "import matplotlib.pyplot as plt\n",
        "\n",
        "# load the trajectory and topology files\n",
        "u = mda.Universe('/content/gdrive/MyDrive/1aki/1AKI_solv_ions.gro', '/content/gdrive/MyDrive/1aki/md_0_1.xtc')\n",
        "\n",
        "# select C-alpha atoms for analysis\n",
        "calpha = u.select_atoms('protein and name CA')\n",
        "\n",
        "# calculate the RMSF\n",
        "R = rms.RMSF(calpha, C_alpha=True).run()\n",
        "rmsf_analysis = R.rmsf\n",
        "\n",
        "# plot the RMSF\n",
        "plt.plot(rmsf_analysis)\n",
        "plt.xlabel('Residue')\n",
        "plt.ylabel('RMSF (Å)')\n",
        "\n",
        "# save the plot as a PNG file\n",
        "plt.savefig('rmsf_ca_plot.png', dpi=300)\n",
        "\n",
        "# show the plot\n",
        "plt.show()\n"
      ]
    },
    {
      "cell_type": "markdown",
      "metadata": {
        "id": "o4bdd0LneEL0"
      },
      "source": [
        "### 3.2.c. RG"
      ]
    },
    {
      "cell_type": "code",
      "execution_count": null,
      "metadata": {
        "colab": {
          "base_uri": "https://localhost:8080/",
          "height": 449
        },
        "id": "KJNr17Mvhv_M",
        "outputId": "6013772d-a790-47ef-b096-8f0ee543cc71"
      },
      "outputs": [],
      "source": [
        "#Rg\n",
        "# load the trajectory and topology files\n",
        "u = mda.Universe('/content/gdrive/MyDrive/1aki/1AKI_solv_ions.gro', '/content/gdrive/MyDrive/1aki/md_0_1.xtc')\n",
        "\n",
        "# select protein atoms for analysis\n",
        "protein = u.select_atoms('protein')\n",
        "\n",
        "# calculate the radius of gyration\n",
        "com = np.array([protein.center_of_mass()])\n",
        "Rg_list = []\n",
        "time_list = []\n",
        "for ts in u.trajectory:\n",
        "    Rg = np.sqrt(np.sum((protein.positions - com)**2)/len(protein))\n",
        "    Rg_list.append(Rg)\n",
        "    time_list.append(ts.time)\n",
        "\n",
        "# plot the radius of gyration\n",
        "plt.plot(time_list, Rg_list)\n",
        "plt.xlabel('Time (ps)')\n",
        "plt.ylabel('Radius of gyration (Å)')\n",
        "\n",
        "# save the plot as a PNG file\n",
        "plt.savefig('rg_plot.png', dpi=300)\n",
        "\n",
        "# show the plot\n",
        "plt.show()\n"
      ]
    },
    {
      "cell_type": "markdown",
      "metadata": {
        "id": "7x-S4nXuOG88"
      },
      "source": [
        "## 3.3 RMSD RMSF-CA RG (Multiple Trajectory)\n",
        "\n",
        "RMSD RMSF CA RG"
      ]
    },
    {
      "cell_type": "markdown",
      "metadata": {
        "id": "KTJCzI0BOMnO"
      },
      "source": [
        "### 3.3.a. RMSD"
      ]
    },
    {
      "cell_type": "code",
      "execution_count": null,
      "metadata": {
        "colab": {
          "base_uri": "https://localhost:8080/",
          "height": 449
        },
        "id": "MEL7Mnx7OORn",
        "outputId": "2052993e-65a1-47ec-86ef-2f27f91d7c5b"
      },
      "outputs": [],
      "source": [
        "import MDAnalysis as mda\n",
        "from MDAnalysis.analysis import rms\n",
        "import matplotlib.pyplot as plt\n",
        "\n",
        "# load the trajectories and topologies\n",
        "u1 = mda.Universe('/content/gdrive/MyDrive/1aki/1AKI_solv_ions.gro', '/content/gdrive/MyDrive/1aki/md_0_1.xtc')\n",
        "u2 = mda.Universe('/content/gdrive/MyDrive/1aki/1AKI_solv_ions.gro', '/content/gdrive/MyDrive/1aki/md_0_1.xtc')\n",
        "\n",
        "# select the protein atoms for RMSD calculation\n",
        "ref1 = u1.select_atoms('protein')\n",
        "ref2 = u2.select_atoms('protein')\n",
        "\n",
        "# calculate the RMSD\n",
        "R1 = rms.RMSD(u1, ref1, select='backbone', groupselections=['protein'])\n",
        "R1.run()\n",
        "R2 = rms.RMSD(u2, ref2, select='backbone', groupselections=['protein'])\n",
        "R2.run()\n",
        "\n",
        "# plot the RMSD\n",
        "fig, ax = plt.subplots()\n",
        "ax.plot(R1.rmsd[:,1], R1.rmsd[:,2], label='data_1')\n",
        "ax.plot(R2.rmsd[:,1], R2.rmsd[:,2], label='data_2')\n",
        "ax.legend()\n",
        "ax.set_xlabel('Time (ps)')\n",
        "ax.set_ylabel('RMSD (Å)')\n",
        "\n",
        "# save the plot as a PNG file\n",
        "plt.savefig('rmsd_plot_230425.png', dpi=300)\n",
        "\n",
        "# show the plot\n",
        "plt.show()\n"
      ]
    },
    {
      "cell_type": "markdown",
      "metadata": {
        "id": "e_LhmAxdOU2L"
      },
      "source": [
        "### 3.3.b. RMSF CA"
      ]
    },
    {
      "cell_type": "code",
      "execution_count": null,
      "metadata": {
        "colab": {
          "base_uri": "https://localhost:8080/",
          "height": 449
        },
        "id": "KQZYt-NROWhw",
        "outputId": "e6ed26fd-6ecc-446b-ceab-897f40a974ed"
      },
      "outputs": [],
      "source": [
        "import MDAnalysis as mda\n",
        "from MDAnalysis.analysis import rms\n",
        "from MDAnalysis.analysis.rms import RMSF\n",
        "import matplotlib.pyplot as plt\n",
        "\n",
        "# Load the two trajectory and topology files\n",
        "u1 = mda.Universe('/content/gdrive/MyDrive/1aki/1AKI_solv_ions.gro', '/content/gdrive/MyDrive/1aki/md_0_1.xtc')\n",
        "u2 = mda.Universe('/content/gdrive/MyDrive/1aki/1AKI_solv_ions.gro', '/content/gdrive/MyDrive/1aki/md_0_1.xtc')\n",
        "\n",
        "# Select the C-alpha atoms\n",
        "calpha1 = u1.select_atoms('protein and name CA')\n",
        "calpha2 = u2.select_atoms('protein and name CA')\n",
        "\n",
        "# Align the protein to the reference structure\n",
        "ref1 = mda.Universe('/content/gdrive/MyDrive/1aki/1AKI_solv_ions.gro')\n",
        "ref2 = mda.Universe('/content/gdrive/MyDrive/1aki/1AKI_solv_ions.gro')\n",
        "R1 = rms.RMSD(u1, ref1, select='protein and name CA', center=True, superposition=True)\n",
        "R1.run()\n",
        "R2 = rms.RMSD(u2, ref2, select='protein and name CA', center=True, superposition=True)\n",
        "R2.run()\n",
        "\n",
        "# Calculate RMSF for each trajectory\n",
        "RMSF1 = RMSF(calpha1).run()\n",
        "RMSF2 = RMSF(calpha2).run()\n",
        "\n",
        "# Plot RMSF values of both trajectories on the same plot\n",
        "fig, ax = plt.subplots()\n",
        "ax.plot(RMSF1.rmsf, label='data_1')\n",
        "ax.plot(RMSF2.rmsf, label='data_2')\n",
        "ax.set_xlabel('Residue')\n",
        "ax.set_ylabel('RMSF (nm)')\n",
        "ax.legend()\n",
        "\n",
        "# Set the y-axis limits based on the range of your RMSF values\n",
        "ymin = 0\n",
        "ymax = max(RMSF1.rmsf.max(), RMSF2.rmsf.max()) + 0.1\n",
        "ax.set_ylim(ymin, ymax)\n",
        "\n",
        "# Save the plot as a high-resolution PNG image\n",
        "fig.savefig('rmsf_ca_230425.png', dpi=300)\n",
        "\n",
        "plt.show()\n"
      ]
    },
    {
      "cell_type": "markdown",
      "metadata": {
        "id": "vBA-PJJ5OkHQ"
      },
      "source": [
        "### 3.3.c. RG"
      ]
    },
    {
      "cell_type": "code",
      "execution_count": null,
      "metadata": {
        "colab": {
          "base_uri": "https://localhost:8080/",
          "height": 449
        },
        "id": "nmRviSiLOliM",
        "outputId": "5d35eaba-25e9-453c-c765-89fed17da14d"
      },
      "outputs": [],
      "source": [
        "import MDAnalysis as mda\n",
        "import numpy as np\n",
        "import matplotlib.pyplot as plt\n",
        "\n",
        "# Load the trajectory and topology files for both systems\n",
        "u1 = mda.Universe('/content/gdrive/MyDrive/1aki/1AKI_solv_ions.gro', '/content/gdrive/MyDrive/1aki/md_0_1.xtc')\n",
        "u2 = mda.Universe('/content/gdrive/MyDrive/1aki/1AKI_solv_ions.gro', '/content/gdrive/MyDrive/1aki/md_0_1.xtc')\n",
        "\n",
        "# Select only protein atoms\n",
        "protein_sel1 = u1.select_atoms('protein')\n",
        "protein_sel2 = u2.select_atoms('protein')\n",
        "\n",
        "# Initialize arrays to store Rg values and time\n",
        "Rg1 = np.zeros(len(u1.trajectory))\n",
        "Rg2 = np.zeros(len(u2.trajectory))\n",
        "time1 = np.zeros(len(u1.trajectory))\n",
        "time2 = np.zeros(len(u2.trajectory))\n",
        "\n",
        "# Loop over all frames in trajectory and calculate Rg\n",
        "for ts in u1.trajectory:\n",
        "    Rg1[ts.frame] = protein_sel1.radius_of_gyration()\n",
        "    time1[ts.frame] = u1.trajectory.time\n",
        "\n",
        "for ts in u2.trajectory:\n",
        "    Rg2[ts.frame] = protein_sel2.radius_of_gyration()\n",
        "    time2[ts.frame] = u2.trajectory.time\n",
        "\n",
        "# Plot Rg values of both systems on the same plot\n",
        "fig, ax = plt.subplots()\n",
        "ax.plot(time1, Rg1, label='data_1')\n",
        "ax.plot(time2, Rg2, label='data_2')\n",
        "ax.set_xlabel('Time (ps)')\n",
        "ax.set_ylabel('Radius of gyration (nm)')\n",
        "ax.legend()\n",
        "\n",
        "# Save the plot as a high-resolution PNG image\n",
        "fig.savefig('rg_230425.png', dpi=300)\n",
        "\n",
        "plt.show()\n"
      ]
    },
    {
      "cell_type": "markdown",
      "metadata": {
        "id": "78hlvYgDOwUo"
      },
      "source": [
        "# 4 Essential Dynamics Analysis\n",
        "- Clustering\n",
        "- Cartesian Coordinate PCA\n",
        "- Pairwise Distance PCA\n",
        "- Solvent Accesible Surface Area"
      ]
    },
    {
      "cell_type": "markdown",
      "metadata": {
        "id": "3ynl9k1Crtdf"
      },
      "source": [
        "## 4.1 Reading Data"
      ]
    },
    {
      "cell_type": "code",
      "execution_count": null,
      "metadata": {
        "colab": {
          "base_uri": "https://localhost:8080/"
        },
        "id": "-Tihku00O0mg",
        "outputId": "b81e790d-3e50-481a-c9ef-bc197653cb73"
      },
      "outputs": [],
      "source": [
        "!pwd"
      ]
    },
    {
      "cell_type": "code",
      "execution_count": null,
      "metadata": {
        "colab": {
          "base_uri": "https://localhost:8080/"
        },
        "id": "QCq824lqO1Ut",
        "outputId": "80611030-a940-4bf8-a89f-05efcc047151"
      },
      "outputs": [],
      "source": [
        "import MDAnalysis as mda\n",
        "u = mda.Universe('/content/gdrive/MyDrive/1aki/6wzu_solv_ions.pdb', '/content/gdrive/MyDrive/1aki/md_1_all.xtc')\n"
      ]
    },
    {
      "cell_type": "code",
      "execution_count": null,
      "metadata": {
        "id": "qgn8TvX_O4de"
      },
      "outputs": [],
      "source": [
        "import MDAnalysis as mda\n",
        "u = mda.Universe('/content/gdrive/MyDrive/1aki/6wzu_solv_ions.pdb', '/content/gdrive/MyDrive/1aki/md_1_all.xtc')\n",
        "ag = u.select_atoms(\"name CA\")\n",
        "ag.write(\"c-alpha.pdb\")"
      ]
    },
    {
      "cell_type": "code",
      "execution_count": null,
      "metadata": {
        "id": "Psl_uXxUO8UY"
      },
      "outputs": [],
      "source": [
        "# Pass in the frames keyword to write out trajectories.\n",
        "ag.write('c-alpha_all.xtc', frames='all')"
      ]
    },
    {
      "cell_type": "code",
      "execution_count": null,
      "metadata": {
        "id": "BC677b_APBq_"
      },
      "outputs": [],
      "source": [
        "# Slice or index the trajectory to choose which frames to write:\n",
        "ag.write('c-alpha_skip2.trr', frames=u.trajectory[::2])\n",
        "ag.write('c-alpha_some.dcd', frames=u.trajectory[[0,2,3]])"
      ]
    },
    {
      "cell_type": "code",
      "execution_count": null,
      "metadata": {
        "id": "jNjNC55hXxfQ"
      },
      "outputs": [],
      "source": [
        "# make xtc to dcd with all frames\n",
        "ag.write('c-alpha_all.trr', frames='all')\n",
        "ag.write('c-alpha_all.dcd', frames='all')"
      ]
    },
    {
      "cell_type": "code",
      "execution_count": null,
      "metadata": {
        "id": "dkZB3NwGPCGu"
      },
      "outputs": [],
      "source": [
        "# Alternatively, iterate over the trajectory frame-by-frame with Writer(). This requires you to pass in the number of atoms to write.\n",
        "with mda.Writer('c-alpha.xyz', ag.n_atoms) as w:\n",
        "    for ts in u.trajectory:\n",
        "        w.write(ag)"
      ]
    },
    {
      "cell_type": "code",
      "execution_count": null,
      "metadata": {
        "colab": {
          "base_uri": "https://localhost:8080/"
        },
        "id": "tnMaVfMLPEJ2",
        "outputId": "34c736dd-d3a9-4bc4-c9a9-e3995c277a21"
      },
      "outputs": [],
      "source": [
        "!pwd"
      ]
    },
    {
      "cell_type": "code",
      "execution_count": null,
      "metadata": {
        "colab": {
          "base_uri": "https://localhost:8080/"
        },
        "id": "NM5WUxpnPKRT",
        "outputId": "b635d5c2-9808-463d-ae95-e0c506e3db33"
      },
      "outputs": [],
      "source": [
        "import mdtraj as md\n",
        "t = md.load('c-alpha_all.xtc', top='c-alpha.pdb')\n",
        "print(t)"
      ]
    },
    {
      "cell_type": "code",
      "execution_count": null,
      "metadata": {
        "colab": {
          "base_uri": "https://localhost:8080/"
        },
        "id": "mrKa-ugvPMpW",
        "outputId": "3f362e63-0f36-4e6f-fed1-1b081c79a92f"
      },
      "outputs": [],
      "source": [
        "# lets take a look at the first ten frames\n",
        "print(t[1:10])"
      ]
    },
    {
      "cell_type": "code",
      "execution_count": null,
      "metadata": {
        "colab": {
          "base_uri": "https://localhost:8080/"
        },
        "id": "Tg0rxXrtPNEO",
        "outputId": "a0e1068f-f34b-4936-b4b5-ae9e7d3d6070"
      },
      "outputs": [],
      "source": [
        "# lets take a look at the last ten frames\n",
        "print(t[-10:])"
      ]
    },
    {
      "cell_type": "code",
      "execution_count": null,
      "metadata": {
        "colab": {
          "base_uri": "https://localhost:8080/"
        },
        "id": "E2ZsssqcPPRs",
        "outputId": "ff2618a9-314c-47c3-fd76-44654bbbb972"
      },
      "outputs": [],
      "source": [
        ">>> # or maybe the last frame?\n",
        ">>> print(t[-1])"
      ]
    },
    {
      "cell_type": "code",
      "execution_count": null,
      "metadata": {
        "colab": {
          "base_uri": "https://localhost:8080/"
        },
        "id": "k9toc8UhPRlO",
        "outputId": "c11e282e-f929-4f88-9d0c-7bc18ba96dea"
      },
      "outputs": [],
      "source": [
        "print(t.xyz.shape)"
      ]
    },
    {
      "cell_type": "code",
      "execution_count": null,
      "metadata": {
        "colab": {
          "base_uri": "https://localhost:8080/"
        },
        "id": "g-RGWDqvPTuD",
        "outputId": "7962cd0d-6f24-4bab-fc4e-f45f19149805"
      },
      "outputs": [],
      "source": [
        "# the simulation time (in picoseconds) of the first 10 frames\n",
        "print(t.time[0:10])"
      ]
    },
    {
      "cell_type": "code",
      "execution_count": null,
      "metadata": {
        "colab": {
          "base_uri": "https://localhost:8080/"
        },
        "id": "sUvXTcyVPXlR",
        "outputId": "e2ca9298-b508-4056-8f7e-7459e352425f"
      },
      "outputs": [],
      "source": [
        "# the simulation time (in picoseconds) of th last 10 frames\n",
        "print(t.time[-10:])"
      ]
    },
    {
      "cell_type": "code",
      "execution_count": null,
      "metadata": {
        "colab": {
          "base_uri": "https://localhost:8080/"
        },
        "id": "7pz6sEjOPZsq",
        "outputId": "4ad60724-4f47-4214-a2f1-0fe37b2fc248"
      },
      "outputs": [],
      "source": [
        "# or the unitcell lengths in the last frame? (in nanometers of course)\n",
        "t.unitcell_lengths[-1]"
      ]
    },
    {
      "cell_type": "code",
      "execution_count": null,
      "metadata": {
        "id": "QtmzNJ8tPcIS"
      },
      "outputs": [],
      "source": [
        "# the hdf5 format stores the topology inside the file for convenience\n",
        "t[::2].save('halftraj.h5')"
      ]
    },
    {
      "cell_type": "code",
      "execution_count": null,
      "metadata": {
        "id": "ONwLz9v9PfgW"
      },
      "outputs": [],
      "source": [
        "# the hdf5 format stores the topology inside the file for convenience\n",
        "t[-10:].save('last10f-traj.h5')"
      ]
    },
    {
      "cell_type": "code",
      "execution_count": null,
      "metadata": {
        "id": "xtMvXNpTPhsy"
      },
      "outputs": [],
      "source": [
        "# the hdf5 format stores the topology inside the file for convenience\n",
        "t[-1000:].save('last1000f-traj.h5')"
      ]
    },
    {
      "cell_type": "code",
      "execution_count": null,
      "metadata": {
        "id": "bOBXn6vBPj3i"
      },
      "outputs": [],
      "source": [
        "# the hdf5 format stores the topology inside the file for convenience\n",
        "t[-1000:].save('last100f-traj.h5')"
      ]
    },
    {
      "cell_type": "code",
      "execution_count": null,
      "metadata": {
        "id": "Ifl3dSOJPnHk"
      },
      "outputs": [],
      "source": [
        "# the format will be parsed based on the extension, or you can call the\n",
        "# format-specific save methods\n",
        "t[0:10].save_dcd('first-ten-frames.dcd')"
      ]
    },
    {
      "cell_type": "code",
      "execution_count": null,
      "metadata": {
        "id": "WPdG-lnSPqJl"
      },
      "outputs": [],
      "source": [
        "# the format will be parsed based on the extension, or you can call the\n",
        "# format-specific save methods\n",
        "t[-10:].save_dcd('last-ten-frames.dcd')"
      ]
    },
    {
      "cell_type": "code",
      "execution_count": null,
      "metadata": {
        "id": "9AN1VLbkPseC"
      },
      "outputs": [],
      "source": [
        "# the format will be parsed based on the extension, or you can call the\n",
        "# format-specific save methods\n",
        "t[-10:].save_dcd('last-ten-frames.dcd')"
      ]
    },
    {
      "cell_type": "code",
      "execution_count": null,
      "metadata": {
        "id": "HyHp0QFaPu4o"
      },
      "outputs": [],
      "source": [
        "atoms_to_keep = [a.index for a in t.topology.atoms if a.name == 'CA']\n",
        "t.restrict_atoms(atoms_to_keep)  # this acts inplace on the trajectory\n",
        "t.save('CA-only.h5')"
      ]
    },
    {
      "cell_type": "markdown",
      "metadata": {
        "id": "NL_pSHfGPx2c"
      },
      "source": [
        "## 4.2 Atom Selection"
      ]
    },
    {
      "cell_type": "code",
      "execution_count": null,
      "metadata": {
        "colab": {
          "base_uri": "https://localhost:8080/"
        },
        "id": "UtHsAM5Kh-Ly",
        "outputId": "de1ef86b-3482-417e-fe59-fd2280ec9549"
      },
      "outputs": [],
      "source": [
        "!pwd"
      ]
    },
    {
      "cell_type": "code",
      "execution_count": null,
      "metadata": {
        "colab": {
          "base_uri": "https://localhost:8080/"
        },
        "id": "-LfXg1cwP2wQ",
        "outputId": "4539e8ca-3075-4bd1-c005-ba72f10e7755"
      },
      "outputs": [],
      "source": [
        "from __future__ import print_function\n",
        "import mdtraj as md\n",
        "\n",
        "traj = md.load('CA-only.h5')\n",
        "print(traj)"
      ]
    },
    {
      "cell_type": "code",
      "execution_count": null,
      "metadata": {
        "colab": {
          "base_uri": "https://localhost:8080/"
        },
        "id": "1FLVfvwFP5II",
        "outputId": "dd052a8c-ecfe-4313-aa1b-ceff9edb7db8"
      },
      "outputs": [],
      "source": [
        "print('How many atoms?    %s' % traj.n_atoms)\n",
        "print('How many residues? %s' % traj.n_residues)"
      ]
    },
    {
      "cell_type": "code",
      "execution_count": null,
      "metadata": {
        "colab": {
          "base_uri": "https://localhost:8080/"
        },
        "id": "Wrr2WHPFP7TT",
        "outputId": "c60d1608-af54-4df5-a0bf-962f1ce1185d"
      },
      "outputs": [],
      "source": [
        "frame_idx = 4 # zero indexed frame number\n",
        "atom_idx = 9 # zero indexed atom index\n",
        "print('Where is the fifth atom at the tenth frame?')\n",
        "print('x: %s\\ty: %s\\tz: %s' % tuple(traj.xyz[frame_idx, atom_idx,:]))"
      ]
    },
    {
      "cell_type": "code",
      "execution_count": null,
      "metadata": {
        "colab": {
          "base_uri": "https://localhost:8080/"
        },
        "id": "N9fLRUXfP9aq",
        "outputId": "088d1991-9d24-4f42-916f-52fe16b666a1"
      },
      "outputs": [],
      "source": [
        "topology = traj.topology\n",
        "print(topology)"
      ]
    },
    {
      "cell_type": "code",
      "execution_count": null,
      "metadata": {
        "colab": {
          "base_uri": "https://localhost:8080/"
        },
        "id": "7DnQSX3sP_7b",
        "outputId": "2d998afd-87d4-43f0-9ef1-28a549bee4ed"
      },
      "outputs": [],
      "source": [
        "print('Fifth atom: %s' % topology.atom(4))\n",
        "print('All atoms: %s' % [atom for atom in topology.atoms])"
      ]
    },
    {
      "cell_type": "code",
      "execution_count": null,
      "metadata": {
        "colab": {
          "base_uri": "https://localhost:8080/"
        },
        "id": "l1tD6fPfQB-w",
        "outputId": "898ecd8f-cfd9-4a69-aa9b-884075f842fe"
      },
      "outputs": [],
      "source": [
        "print('Second residue: %s' % traj.topology.residue(1))\n",
        "print('All residues: %s' % [residue for residue in traj.topology.residues])"
      ]
    },
    {
      "cell_type": "code",
      "execution_count": null,
      "metadata": {
        "colab": {
          "base_uri": "https://localhost:8080/"
        },
        "id": "5wftqgiyQEDq",
        "outputId": "1c450c64-2f7a-4e5f-e13d-d9d4ea6dbb98"
      },
      "outputs": [],
      "source": [
        "atom = topology.atom(10)\n",
        "print('''Hi! I am the %sth atom, and my name is %s.\n",
        "I am a %s atom with %s bonds.\n",
        "I am part of an %s residue.''' % ( atom.index, atom.name, atom.element.name, atom.n_bonds, atom.residue.name))"
      ]
    },
    {
      "cell_type": "markdown",
      "metadata": {
        "id": "a3qCQ_q1QIHz"
      },
      "source": [
        "## 4.3 Put Everything Together"
      ]
    },
    {
      "cell_type": "code",
      "execution_count": null,
      "metadata": {
        "colab": {
          "base_uri": "https://localhost:8080/"
        },
        "id": "JBZPxcl0QLDd",
        "outputId": "4a2fcdf6-72fe-422e-ec4f-15301f9341a0"
      },
      "outputs": [],
      "source": [
        "print([atom.index for atom in topology.atoms if atom.element.symbol is 'C' and atom.is_sidechain])"
      ]
    },
    {
      "cell_type": "code",
      "execution_count": null,
      "metadata": {
        "colab": {
          "base_uri": "https://localhost:8080/"
        },
        "id": "8uGHozHQQQnk",
        "outputId": "153c8e72-bed8-4813-e93e-35ed281b550e"
      },
      "outputs": [],
      "source": [
        "print([residue for residue in topology.chain(0).residues if residue.index % 2 == 0])"
      ]
    },
    {
      "cell_type": "markdown",
      "metadata": {
        "id": "7jrEeaCvQWax"
      },
      "source": [
        "## 4.4 Atom selection language"
      ]
    },
    {
      "cell_type": "code",
      "execution_count": null,
      "metadata": {
        "colab": {
          "base_uri": "https://localhost:8080/"
        },
        "id": "JvpzTQZKQYzV",
        "outputId": "f631689e-38ba-4690-b1b6-a835de6802c6"
      },
      "outputs": [],
      "source": [
        "print(topology.select('resid 1 to 2'))"
      ]
    },
    {
      "cell_type": "code",
      "execution_count": null,
      "metadata": {
        "colab": {
          "base_uri": "https://localhost:8080/"
        },
        "id": "4VXwQVDtQdNI",
        "outputId": "ac44230e-9bef-4d0c-e2f6-97097d1316fe"
      },
      "outputs": [],
      "source": [
        "print(topology.select('name N and backbone'))"
      ]
    },
    {
      "cell_type": "code",
      "execution_count": null,
      "metadata": {
        "colab": {
          "base_uri": "https://localhost:8080/"
        },
        "id": "7pGIpZC7QfML",
        "outputId": "48323db9-b4a5-4e16-e414-0d14c4292d68"
      },
      "outputs": [],
      "source": [
        "selection = topology.select_expression('name CA and resid 1 to 2')\n",
        "print(selection)"
      ]
    },
    {
      "cell_type": "markdown",
      "metadata": {
        "id": "xnHIQeV5QmD1"
      },
      "source": [
        "# 5 Clustering\n",
        "with md.rmsd() and scipy.cluster.hierarchy()\n"
      ]
    },
    {
      "cell_type": "code",
      "execution_count": null,
      "metadata": {
        "colab": {
          "base_uri": "https://localhost:8080/"
        },
        "id": "mDHYk9CXQoin",
        "outputId": "70ae84c1-41b7-4349-ac94-f305f9d8ccfa"
      },
      "outputs": [],
      "source": [
        "# where-am-i?\n",
        "! pwd"
      ]
    },
    {
      "cell_type": "code",
      "execution_count": null,
      "metadata": {
        "id": "caLSx06zQxqk"
      },
      "outputs": [],
      "source": [
        "from __future__ import print_function\n",
        "%matplotlib inline\n",
        "import mdtraj as md\n",
        "import numpy as np\n",
        "import matplotlib.pyplot as plt\n",
        "import scipy.cluster.hierarchy\n",
        "from scipy.spatial.distance import squareform"
      ]
    },
    {
      "cell_type": "code",
      "execution_count": null,
      "metadata": {
        "id": "2rvdo_eWQzgW"
      },
      "outputs": [],
      "source": [
        "traj = md.load('CA-only.h5')"
      ]
    },
    {
      "cell_type": "code",
      "execution_count": null,
      "metadata": {
        "colab": {
          "base_uri": "https://localhost:8080/"
        },
        "id": "5uwRjWqMQ1aM",
        "outputId": "f613894a-1033-49a8-fddd-12d41b21a0cf"
      },
      "outputs": [],
      "source": [
        "# compute pairwise rmsd between conformations\n",
        "distances = np.empty((traj.n_frames, traj.n_frames))\n",
        "for i in range(traj.n_frames):\n",
        "    distances[i] = md.rmsd(traj, traj, i)\n",
        "print('Max pairwise rmsd: %f nm' % np.max(distances))"
      ]
    },
    {
      "cell_type": "code",
      "execution_count": null,
      "metadata": {
        "id": "jldZFhQoQ44O"
      },
      "outputs": [],
      "source": [
        "# Clustering only accepts reduced form. Squareform's checks are too stringent\n",
        "# when calculating a massinve numer of frames initially it was 1e-6; changed to 1e6 and the plot generated.\n",
        "assert np.all(distances - distances.T < 1e6)\n",
        "reduced_distances = squareform(distances, checks=False)"
      ]
    },
    {
      "cell_type": "code",
      "execution_count": null,
      "metadata": {
        "id": "5wNTw2KzQ67v"
      },
      "outputs": [],
      "source": [
        "linkage = scipy.cluster.hierarchy.linkage(reduced_distances, method='average')"
      ]
    },
    {
      "cell_type": "code",
      "execution_count": null,
      "metadata": {
        "colab": {
          "base_uri": "https://localhost:8080/",
          "height": 437
        },
        "id": "sH4z_xlyQ85d",
        "outputId": "74a42361-9434-44ed-8754-367480e8a298"
      },
      "outputs": [],
      "source": [
        "plt.title('RMSD Average linkage hierarchical clustering')\n",
        "_ = scipy.cluster.hierarchy.dendrogram(linkage, no_labels=True, count_sort='descendent')\n",
        "\n",
        "# save the plot as a PNG file\n",
        "plt.savefig('RMSD Average linkage hierarchical clustering.png', dpi=300)\n",
        "\n",
        "# show the plot\n",
        "plt.show()"
      ]
    },
    {
      "cell_type": "markdown",
      "metadata": {
        "id": "ZY46T3-xREGJ"
      },
      "source": [
        "# 6 PCA\n",
        "Principal components analysis (PCA) with scikit-learn\n",
        "\n"
      ]
    },
    {
      "cell_type": "code",
      "execution_count": null,
      "metadata": {
        "id": "BtVd98gfQ_EI"
      },
      "outputs": [],
      "source": [
        "%matplotlib inline\n",
        "from __future__ import print_function\n",
        "import mdtraj as md\n",
        "import matplotlib.pyplot as plt\n",
        "from sklearn.decomposition import PCA"
      ]
    },
    {
      "cell_type": "code",
      "execution_count": null,
      "metadata": {
        "colab": {
          "base_uri": "https://localhost:8080/"
        },
        "id": "9F3ZN-DDRHcw",
        "outputId": "418cffe6-6248-4c1a-e147-22c3c2b11cdc"
      },
      "outputs": [],
      "source": [
        "traj = md.load('CA-only.h5')\n",
        "traj"
      ]
    },
    {
      "cell_type": "code",
      "execution_count": null,
      "metadata": {
        "colab": {
          "base_uri": "https://localhost:8080/"
        },
        "id": "GAxcqi2ARLts",
        "outputId": "f234dd8b-0fba-426e-a2bd-c22916bf9de2"
      },
      "outputs": [],
      "source": [
        "pca1 = PCA(n_components=2)\n",
        "traj.superpose(traj, 0)"
      ]
    },
    {
      "cell_type": "code",
      "execution_count": null,
      "metadata": {
        "colab": {
          "base_uri": "https://localhost:8080/"
        },
        "id": "kx5tEcodRNzr",
        "outputId": "88a09ae6-51d4-4e19-98df-0b0b93597118"
      },
      "outputs": [],
      "source": [
        "reduced_cartesian = pca1.fit_transform(traj.xyz.reshape(traj.n_frames, traj.n_atoms * 3))\n",
        "print(reduced_cartesian.shape)"
      ]
    },
    {
      "cell_type": "markdown",
      "metadata": {
        "id": "A3zvmd6SsA0-"
      },
      "source": [
        "### 6.1 Cartesian Coordinate PCA"
      ]
    },
    {
      "cell_type": "code",
      "execution_count": null,
      "metadata": {
        "colab": {
          "base_uri": "https://localhost:8080/",
          "height": 472
        },
        "id": "OZnxjKQVRPkI",
        "outputId": "7f65708c-3332-4ea7-e259-97191fd604c6"
      },
      "outputs": [],
      "source": [
        "plt.figure()\n",
        "plt.scatter(reduced_cartesian[:, 0], reduced_cartesian[:,1], marker='x', c=traj.time)\n",
        "plt.xlabel('PC1')\n",
        "plt.ylabel('PC2')\n",
        "plt.title('Cartesian coordinate PCA')\n",
        "cbar = plt.colorbar()\n",
        "cbar.set_label('Time [ps]')\n",
        "\n",
        "# save the plot as a PNG file\n",
        "plt.savefig('Cartesian coordinate PCA', dpi=300)\n",
        "\n",
        "# show the plot\n",
        "plt.show()"
      ]
    },
    {
      "cell_type": "markdown",
      "metadata": {
        "id": "U4-dAAv4sIwN"
      },
      "source": [
        "### 6.2 Pairwise Distance PCA"
      ]
    },
    {
      "cell_type": "code",
      "execution_count": null,
      "metadata": {
        "colab": {
          "base_uri": "https://localhost:8080/"
        },
        "id": "1F-kuVD7RTUc",
        "outputId": "0434e85f-39aa-4a4b-b01c-f0500e7561eb"
      },
      "outputs": [],
      "source": [
        "pca2 = PCA(n_components=2)\n",
        "\n",
        "from itertools import combinations\n",
        "# this python function gives you all unique pairs of elements from a list\n",
        "\n",
        "atom_pairs = list(combinations(range(traj.n_atoms), 2))\n",
        "pairwise_distances = md.geometry.compute_distances(traj, atom_pairs)\n",
        "print(pairwise_distances.shape)\n",
        "reduced_distances = pca2.fit_transform(pairwise_distances)"
      ]
    },
    {
      "cell_type": "code",
      "execution_count": null,
      "metadata": {
        "colab": {
          "base_uri": "https://localhost:8080/",
          "height": 472
        },
        "id": "dRNXa-rrRVZV",
        "outputId": "95b327f5-45c7-45db-df28-9f8bcfa864c1"
      },
      "outputs": [],
      "source": [
        "plt.figure()\n",
        "plt.scatter(reduced_distances[:, 0], reduced_distances[:,1], marker='x', c=traj.time)\n",
        "plt.xlabel('PC1')\n",
        "plt.ylabel('PC2')\n",
        "plt.title('Pairwise distance PCA')\n",
        "cbar = plt.colorbar()\n",
        "cbar.set_label('Time [ps]')\n",
        "\n",
        "# save the plot as a PNG file\n",
        "plt.savefig('Pairwise distance PCA', dpi=300)\n",
        "\n",
        "# show the plot\n",
        "plt.show()"
      ]
    },
    {
      "cell_type": "markdown",
      "metadata": {
        "id": "k-9LCtxYRZn-"
      },
      "source": [
        "# 7 SASA\n",
        "Solvent Accesible Surface Area"
      ]
    },
    {
      "cell_type": "code",
      "execution_count": null,
      "metadata": {
        "id": "fArVd7mlRbY5"
      },
      "outputs": [],
      "source": [
        "from __future__ import print_function\n",
        "%matplotlib inline\n",
        "import numpy as np\n",
        "import mdtraj as md"
      ]
    },
    {
      "cell_type": "code",
      "execution_count": null,
      "metadata": {
        "colab": {
          "base_uri": "https://localhost:8080/"
        },
        "id": "UEKBd0ndRfHB",
        "outputId": "c860abdd-6970-4c6a-acda-793b5c8b919f"
      },
      "outputs": [],
      "source": [
        "help(md.shrake_rupley)"
      ]
    },
    {
      "cell_type": "code",
      "execution_count": null,
      "metadata": {
        "colab": {
          "base_uri": "https://localhost:8080/"
        },
        "id": "DbK26PflRhMS",
        "outputId": "751cff74-dd12-40c9-eef9-d26f29e7d8d0"
      },
      "outputs": [],
      "source": [
        "trajectory = md.load('CA-only.h5')\n",
        "sasa = md.shrake_rupley(trajectory)\n",
        "\n",
        "print(trajectory)\n",
        "print('sasa data shape', sasa.shape)"
      ]
    },
    {
      "cell_type": "code",
      "execution_count": null,
      "metadata": {
        "colab": {
          "base_uri": "https://localhost:8080/"
        },
        "id": "vpGPw0tPRjLj",
        "outputId": "99379281-22ff-416c-bcde-2f6d62639c3b"
      },
      "outputs": [],
      "source": [
        "total_sasa = sasa.sum(axis=1)\n",
        "print(total_sasa.shape)"
      ]
    },
    {
      "cell_type": "code",
      "execution_count": null,
      "metadata": {
        "colab": {
          "base_uri": "https://localhost:8080/",
          "height": 455
        },
        "id": "f3mr1vEkRlJZ",
        "outputId": "700db5a0-ec63-4913-c8bc-c3c6f32a27c3"
      },
      "outputs": [],
      "source": [
        "from matplotlib.pylab import *\n",
        "\n",
        "plot(trajectory.time, total_sasa)\n",
        "xlabel('Time [ps]', size=16)\n",
        "ylabel('Total SASA (nm)^2', size=16)\n",
        "\n",
        "\n",
        "# save the plot as a PNG file\n",
        "plt.savefig('Total_SASA.png', dpi=300)\n",
        "\n",
        "# show the plot\n",
        "plt.show()"
      ]
    },
    {
      "cell_type": "code",
      "execution_count": null,
      "metadata": {
        "colab": {
          "base_uri": "https://localhost:8080/",
          "height": 460
        },
        "id": "bUCtSWDORnaA",
        "outputId": "33354dd4-11a4-4b99-bd2c-146ce5493451"
      },
      "outputs": [],
      "source": [
        "def autocorr(x):\n",
        "    \"Compute an autocorrelation with numpy\"\n",
        "    x = x - np.mean(x)\n",
        "    result = np.correlate(x, x, mode='full')\n",
        "    result = result[result.size//2:]\n",
        "    return result / result[0]\n",
        "\n",
        "semilogx(trajectory.time, autocorr(total_sasa))\n",
        "xlabel('Time [ps]', size=16)\n",
        "ylabel('SASA autocorrelation', size=16)\n",
        "show()"
      ]
    }
  ],
  "metadata": {
    "colab": {
      "provenance": [],
      "toc_visible": true
    },
    "kernelspec": {
      "display_name": "Python 3",
      "name": "python3"
    },
    "language_info": {
      "name": "python"
    }
  },
  "nbformat": 4,
  "nbformat_minor": 0
}
