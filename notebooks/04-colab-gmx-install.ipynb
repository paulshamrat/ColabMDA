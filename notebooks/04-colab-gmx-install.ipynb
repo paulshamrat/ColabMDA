{
  "cells": [
    {
      "cell_type": "code",
      "execution_count": null,
      "metadata": {
        "id": "wniwCO4oORoV"
      },
      "outputs": [],
      "source": [
        "# Mount Google Drive\n",
        "from google.colab import drive\n",
        "drive.mount('/content/drive/')"
      ]
    },
    {
      "cell_type": "code",
      "execution_count": 2,
      "metadata": {
        "id": "rUYocyvdOeyf"
      },
      "outputs": [],
      "source": [
        "# Create a directory for GROMACS installation in Google Drive\n",
        "!mkdir -p \"/content/drive/MyDrive/gmx\""
      ]
    },
    {
      "cell_type": "code",
      "execution_count": null,
      "metadata": {
        "id": "pDGiVnPtOgvp"
      },
      "outputs": [],
      "source": [
        "# Change to the installation directory\n",
        "%cd \"/content/drive/MyDrive/gmx\""
      ]
    },
    {
      "cell_type": "code",
      "execution_count": null,
      "metadata": {
        "colab": {
          "base_uri": "https://localhost:8080/",
          "height": 36
        },
        "id": "lKzDDD9LOh0R",
        "outputId": "0b1b2994-d84a-4cb2-e490-569f306128ab"
      },
      "outputs": [],
      "source": [
        "# Print the current working directory\n",
        "%pwd"
      ]
    },
    {
      "cell_type": "code",
      "execution_count": null,
      "metadata": {
        "id": "5a9iu3r3OjCy"
      },
      "outputs": [],
      "source": [
        "# Check GPU information\n",
        "!nvidia-smi"
      ]
    },
    {
      "cell_type": "code",
      "execution_count": null,
      "metadata": {
        "id": "4-sf9XMiOkht"
      },
      "outputs": [],
      "source": [
        "# Upgrade cmake\n",
        "!pip install --upgrade cmake"
      ]
    },
    {
      "cell_type": "code",
      "execution_count": null,
      "metadata": {
        "id": "Vla55Ke_Olyx"
      },
      "outputs": [],
      "source": [
        "# Install dependencies\n",
        "!apt update -y\n",
        "!apt upgrade -y\n",
        "!apt install -y gcc cmake build-essential libfftw3-dev nvidia-cuda-toolkit"
      ]
    },
    {
      "cell_type": "code",
      "execution_count": null,
      "metadata": {
        "id": "cJRzayJROnVe"
      },
      "outputs": [],
      "source": [
        "# Download and install hwloc\n",
        "!wget https://download.open-mpi.org/release/hwloc/v1.11/hwloc-1.11.13.tar.gz\n",
        "!tar xzf hwloc-1.11.13.tar.gz\n",
        "%cd hwloc-1.11.13\n",
        "!./configure\n",
        "!make\n",
        "!sudo make install\n",
        "%cd .."
      ]
    },
    {
      "cell_type": "code",
      "execution_count": null,
      "metadata": {
        "id": "USaennuBOomu"
      },
      "outputs": [],
      "source": [
        "# Download GROMACS source code\n",
        "!wget ftp://ftp.gromacs.org/gromacs/gromacs-2023.1.tar.gz\n",
        "!tar xfz gromacs-2023.1.tar.gz"
      ]
    },
    {
      "cell_type": "code",
      "execution_count": null,
      "metadata": {
        "id": "BRWXGLsGOqI3"
      },
      "outputs": [],
      "source": [
        "# Run CMake to configure GROMACS installation path\n",
        "!cmake -B \"/content/drive/MyDrive/gmx/gromacs-2023.1/build\" \\\n",
        "  -S \"/content/drive/MyDrive/gmx/gromacs-2023.1\" \\\n",
        "  -DGMX_BUILD_OWN_FFTW=ON \\\n",
        "  -DREGRESSIONTEST_DOWNLOAD=ON \\\n",
        "  -DGMX_GPU=CUDA \\\n",
        "  -DGMX_MPI=OFF \\\n",
        "  -DGMX_OPENMP=OFF \\\n",
        "  -DGMX_DOUBLE=OFF \\\n",
        "  -DCMAKE_INSTALL_PREFIX=\"/content/drive/MyDrive/gmx/gromacs\" \\\n",
        "  -DCUDA_TOOLKIT_ROOT_DIR=/usr/local/cuda \\\n",
        "  -DCMAKE_C_COMPILER=gcc \\\n",
        "  -DCMAKE_CXX_COMPILER=g++"
      ]
    },
    {
      "cell_type": "code",
      "execution_count": 14,
      "metadata": {
        "id": "O01oyYEYSWoB"
      },
      "outputs": [],
      "source": [
        "# Give execute permissions to the configure script explicitly:\n",
        "!chmod +x /content/drive/MyDrive/gmx/gromacs-2023.1/build/src/external/build-fftw/fftwBuild-prefix/src/fftwBuild/configure"
      ]
    },
    {
      "cell_type": "code",
      "execution_count": null,
      "metadata": {
        "id": "RGOHKCNDOrgI"
      },
      "outputs": [],
      "source": [
        "# Build and install GROMACS\n",
        "!cmake --build \"/content/drive/MyDrive/gmx/gromacs-2023.1/build\" -j4\n",
        "!cmake --build \"/content/drive/MyDrive/gmx/gromacs-2023.1/build\" --target install"
      ]
    },
    {
      "cell_type": "code",
      "execution_count": null,
      "metadata": {
        "id": "pf7B4dAcOs5G"
      },
      "outputs": [],
      "source": [
        "# Check that GROMACS works\n",
        "%%bash\n",
        "source \"/content/drive/MyDrive/gmx/gromacs/bin/GMXRC\"\n",
        "gmx -h"
      ]
    }
  ],
  "metadata": {
    "accelerator": "GPU",
    "colab": {
      "gpuType": "T4",
      "provenance": []
    },
    "kernelspec": {
      "display_name": "Python 3",
      "name": "python3"
    },
    "language_info": {
      "name": "python"
    }
  },
  "nbformat": 4,
  "nbformat_minor": 0
}
