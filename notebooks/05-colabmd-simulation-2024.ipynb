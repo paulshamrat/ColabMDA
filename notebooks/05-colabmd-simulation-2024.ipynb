{
  "cells": [
    {
      "cell_type": "markdown",
      "metadata": {
        "id": "gyGZBwYTsfNf"
      },
      "source": [
        "# 00 Preface\n",
        "\n",
        "**User friendly molecular dynamics simulation combining GROMACS (GROningen MAchine for Chemical Simulations) and Google Collaboratory framework:  A complete guide**\n",
        "\n",
        "This Jupyter notebook is designed to facilitate Molecular Dynamics (MD) simulations using GROMACS. It serves as an adaptable jupyter notebook for conducting MD simulations and accompanies the supplimentary file for the follwoing Article:\n",
        "\n",
        "**Molecular Dynamics Simulation of Wild and Mutant PSMB8 Protein Using Google Collaboratory Framework: Implications for the Restoration of Inflammation in Experimental Autoimmune Encephalomyelitis (EAE) Pathogenesis** ([link here](link will be updated asap)).\n",
        "\n",
        "---\n",
        "**Repository link:**\n",
        "- ColabMDA: https://github.com/paulshamrat/ColabMDA\n",
        "\n",
        "**Note and Acknowledgement:**\n",
        "\n",
        "We would like to thanks the authors who developed jupyter notebook framework for molecular dynamics simulation on google colab. Please always refer the original GROMACS manual for the simulaiton guide. We are grateful to the Authors of the follwoing article which made possible to adapt this md simulation protocol.\n",
        "\n",
        "- F. Engelberger, P. Galaz-Davison, G. Bravo, M. Rivera, and C. A. Ramírez-Sarmiento, “Developing and Implementing Cloud-Based Tutorials That Combine Bioinformatics Software, Interactive Coding, and Visualization Exercises for Distance Learning on Structural Bioinformatics,” J. Chem. Educ., vol. 98, no. 5, pp. 1801–1807, May 2021, doi: 10.1021/acs.jchemed.1c00022.\n",
        "\n",
        "- J. A. Lemkul, “From Proteins to Perturbed Hamiltonians: A Suite of Tutorials for the GROMACS-2018 Molecular Simulation Package [Article v1.0],” Living J. Comput. Mol. Sci., vol. 1, no. 1, pp. 5068–5068, 2019, doi: 10.33011/LIVECOMS.1.1.5068.\n",
        "\n",
        "- P. R. Arantes, M. D. Polêto, C. Pedebos, and R. Ligabue-Braun, “Making it Rain: Cloud-Based Molecular Simulations for Everyone.,” Journal of chemical information and modeling, vol. 61, no. 10. United States, pp. 4852–4856, Oct. 2021. doi: 10.1021/acs.jcim.1c00998.\n",
        "\n",
        "- R. J. Gowers, M. Linke, J. Barnoud, T. J. E. Reddy, M. N. Melo, S. L. Seyler, D. L. Dotson, J. Domanski, S. Buchoux, I. M. Kenney, and O. Beckstein. MDAnalysis: A Python package for the rapid analysis of molecular dynamics simulations. In S. Benthall and S. Rostrup, editors, Proceedings of the 15th Python in Science Conference, pages 98-105, Austin, TX, 2016. SciPy, doi:10.25080/majora-629e541a-00e.\n",
        "\n",
        "- Gowers, R. J., Linke, M., Barnoud, J., Reddy, T. J., Melo, M. N., Seyler, S. L., ... & Beckstein, O. (2016, July). MDAnalysis: a Python package for the rapid analysis of molecular dynamics simulations. In Proceedings of the 15th python in science conference (Vol. 98, p. 105). Austin, TX: SciPy.\n",
        "\n",
        "- Abraham, M. J., Murtola, T., Schulz, R., Páll, S., Smith, J. C., Hess, B., & Lindahl, E. (2015). GROMACS: High performance molecular simulations through multi-level parallelism from laptops to supercomputers. SoftwareX, 1, 19-25.\n"
      ]
    },
    {
      "cell_type": "markdown",
      "metadata": {
        "id": "VGipH-0C5PXT"
      },
      "source": [
        "# 01 Install GROMACS\n",
        "## Make Sure GPU is enabled\n",
        "To check the GPU information on Google Colab, you can follow these steps:\n",
        "\n",
        "- Open a new or existing Colab notebook.\n",
        "- Click on the \"Runtime\" menu at the top.\n",
        "- Select \"Change runtime type\" from the drop-down menu.\n",
        "- In the \"Hardware accelerator\" section, make sure the \"GPU\" option is selected.\n",
        "- Click on the \"Save\" button.\n",
        "- After changing the runtime type to include GPU, you can run the following code snippet in a code cell to check the GPU information:\n"
      ]
    },
    {
      "cell_type": "code",
      "execution_count": null,
      "metadata": {
        "id": "DxaD_U0Ssgke"
      },
      "outputs": [],
      "source": [
        "!nvidia-smi"
      ]
    },
    {
      "cell_type": "markdown",
      "metadata": {
        "id": "DdgzbHyHrQc3"
      },
      "source": [
        "# 02 Pre-compiled GROMACS installation\n",
        "Following 04. Colab GMX installation, you already have your gromacs installed on your google drive that will be located at the follwoing location upon mounting google drive, '/content/drive/MyDrive/gmx/gromacs/'"
      ]
    },
    {
      "cell_type": "code",
      "execution_count": null,
      "metadata": {
        "id": "6FFlcZpE13LA"
      },
      "outputs": [],
      "source": [
        "# upgrade cmake; required for GROMACS 2021 or higher version\n",
        "# !pip install cmake --upgrade\n",
        "\n",
        "#Installing py3Dmol using pip\n",
        "!pip install py3Dmol\n",
        "\n",
        "#Importing py3Dmol for safety\n",
        "import py3Dmol\n",
        "\n",
        "#Installing biopython using pip\n",
        "!pip install biopython"
      ]
    },
    {
      "cell_type": "markdown",
      "metadata": {
        "id": "zO97Iwn0rnMN"
      },
      "source": [
        "# 03 Mount Google Drive:\n",
        "This code snippet mounts the Google Drive into the Colab environment, allowing access to Google Drive files and facilitating data storage and retrieval."
      ]
    },
    {
      "cell_type": "code",
      "execution_count": null,
      "metadata": {
        "colab": {
          "base_uri": "https://localhost:8080/"
        },
        "id": "onK2qWOHrpNF",
        "outputId": "0f573141-522b-4de7-e3a7-38cc01aba29b"
      },
      "outputs": [
        {
          "name": "stdout",
          "output_type": "stream",
          "text": [
            "Mounted at /content/gdrive\n"
          ]
        }
      ],
      "source": [
        "# Mount google drive\n",
        "from google.colab import drive\n",
        "drive.mount('/content/drive')\n"
      ]
    },
    {
      "cell_type": "markdown",
      "metadata": {
        "id": "gYO4C4NT1iye"
      },
      "source": [
        "## Change Working Directory:\n",
        "This creates a directory for the 1AKI protein simulation in the Google Drive directory and changes the current working directory to that location. It uses the os module to create the directory if it does not exist, %cd magic command to change the working directory, and !pwd to display the current working directory."
      ]
    },
    {
      "cell_type": "code",
      "execution_count": null,
      "metadata": {
        "colab": {
          "base_uri": "https://localhost:8080/"
        },
        "id": "n7heDKhQrsU1",
        "outputId": "e9f39278-7f82-40ec-ba43-fa7c3f78052b"
      },
      "outputs": [
        {
          "name": "stdout",
          "output_type": "stream",
          "text": [
            "/content/gdrive/MyDrive/1aki\n",
            "/content/gdrive/MyDrive/1aki\n"
          ]
        }
      ],
      "source": [
        "\n",
        "# Change Working Directory\n",
        "import os\n",
        "dir = \"/content/drive/MyDrive/1aki/\"\n",
        "if not os.path.exists(dir):\n",
        "    os.makedirs(dir)\n",
        "%cd /content/drive/MyDrive/1aki/\n",
        "!pwd"
      ]
    },
    {
      "cell_type": "markdown",
      "metadata": {},
      "source": [
        "## Checking that our GROMACS works:\n",
        "This checks if the GROMACS installation was successful by running the gmx -h command. It utilizes the %%bash magic command to execute a shell script within the notebook environment and the source command to load the GROMACS environment."
      ]
    },
    {
      "cell_type": "code",
      "execution_count": null,
      "metadata": {},
      "outputs": [],
      "source": [
        "# access permission and check if gromacs works\n",
        "%%bash\n",
        "chmod +x \"/content/drive/MyDrive/gmx/gromacs/bin/gmx\"\n",
        "source \"/content/drive/MyDrive/gmx/gromacs/bin/GMXRC\"\n",
        "gmx -h"
      ]
    },
    {
      "cell_type": "markdown",
      "metadata": {
        "id": "3cciVwFAr1Nm"
      },
      "source": [
        "# 04 Run MD simulation"
      ]
    },
    {
      "cell_type": "markdown",
      "metadata": {
        "id": "7nkWjkVz1tRv"
      },
      "source": [
        "## Download mdp files:\n",
        "This code performs the same directory creation and change of working directory as the previous snippet, but without the specific subdirectory (1aki_1).\n",
        "\n",
        "Please note that due to the limitations of the text-based interface, code snippets such as downloading files or mounting Google Drive cannot be executed here. However, the comments provided above should give you an understanding of what each code snippet accomplishes."
      ]
    },
    {
      "cell_type": "code",
      "execution_count": null,
      "metadata": {
        "id": "KkqSIaKDr6ce"
      },
      "outputs": [],
      "source": [
        "# Download the mdp file first and make necessary changes in mdp parameters\n",
        "%%bash\n",
        "source \"/content/drive/MyDrive/gmx/gromacs/bin/GMXRC\"\n",
        "wget -O ions.mdp https://raw.githubusercontent.com/paulshamrat/ColabMDA/main/mdps/ions.mdp\n",
        "wget -O md.mdp https://raw.githubusercontent.com/paulshamrat/ColabMDA/main/mdps/md.mdp\n",
        "wget -O minim.mdp https://raw.githubusercontent.com/paulshamrat/ColabMDA/main/mdps/minim.mdp\n",
        "wget -O npt.mdp https://raw.githubusercontent.com/paulshamrat/ColabMDA/main/mdps/npt.mdp\n",
        "wget -O nvt.mdp https://raw.githubusercontent.com/paulshamrat/ColabMDA/main/mdps/nvt.mdp"
      ]
    },
    {
      "cell_type": "markdown",
      "metadata": {
        "id": "NEeW3QYh137P"
      },
      "source": [
        "## Downloading Protein of Interest:\n",
        "This utilizes the Biopython library to download the PDB file for the protein with ID 1AKI. The PDB file is retrieved using the PDBList class and saved locally. The os.rename command renames the downloaded file to have the appropriate PDB file extension."
      ]
    },
    {
      "cell_type": "code",
      "execution_count": null,
      "metadata": {
        "colab": {
          "base_uri": "https://localhost:8080/"
        },
        "id": "yc32Aoztr_Bg",
        "outputId": "c475a801-d275-41b5-961e-55fba1cdd884"
      },
      "outputs": [
        {
          "name": "stdout",
          "output_type": "stream",
          "text": [
            "Downloading PDB structure '1aki'...\n"
          ]
        }
      ],
      "source": [
        "#Importing your PDB file using biopython\n",
        "import os\n",
        "from Bio.PDB import *\n",
        "pdbid = ['1aki']\n",
        "pdbl = PDBList()\n",
        "for s in pdbid:\n",
        "  pdbl.retrieve_pdb_file(s, pdir='.', file_format =\"pdb\", overwrite=True)\n",
        "  os.rename(\"pdb\"+s+\".ent\", s+\".pdb\")"
      ]
    },
    {
      "cell_type": "code",
      "execution_count": null,
      "metadata": {
        "id": "wpDxL0o-sAhf"
      },
      "outputs": [],
      "source": [
        "# We will constantly need to source GMXRC for GROMACS to work\n",
        "%%bash\n",
        "source \"/content/drive/MyDrive/gmx/gromacs/bin/GMXRC\"\n",
        "\n",
        "\n",
        "# This code snippet sources the GROMACS environment (GMXRC) to ensure the necessary GROMACS commands are available for the subsequent steps of the MD simulation.\n",
        "grep -v HOH 1aki.pdb > 1AKI_clean.pdb\n",
        "\n",
        "# This code snippet removes water molecules (HOH) from the PDB file, resulting in a cleaned version of the protein structure without the solvent molecules.\n",
        "gmx pdb2gmx -f 1AKI_clean.pdb -o 1AKI_processed.gro -water spce -ignh -ff amber99sb-ildn\n",
        "\n",
        "# This code snippet uses the pdb2gmx command to convert the cleaned PDB file into a processed GROMACS GRO file. The -water spce option specifies the water model, -ignh ignores the hydrogen atoms in the PDB file, and -ff amber99sb-ildn specifies the force field to be used.\n",
        "gmx editconf -f 1AKI_processed.gro -o 1AKI_newbox.gro -c -d 1.0 -bt cubic\n",
        "\n",
        "# This code snippet utilizes the editconf command to add a simulation box around the protein. The -c option centers the protein in the box, -d 1.0 specifies the distance between the protein and the box edges, and -bt cubic specifies a cubic box shape.\n",
        "gmx solvate -cp 1AKI_newbox.gro -cs spc216.gro -o 1AKI_solv.gro -p topol.top\n",
        "\n",
        "# This code snippet uses the solvate command to add water molecules to the simulation box around the protein. The -cp option specifies the input coordinate file (the box with the protein), -cs specifies the input solvent coordinate file (water), -o specifies the output solvated structure file, and -p specifies the output topology file.\n",
        "gmx grompp -f ions.mdp -c 1AKI_solv.gro -p topol.top -o ions.tpr\n",
        "\n",
        "\n",
        "# This code snippet prepares the system for the addition of ions by running the grompp command. The ions.mdp file, solvated structure (1AKI_solv.gro), and topology file (topol.top) are used as inputs to generate the binary input file (ions.tpr).\n",
        "echo \"SOL\" > options\n",
        "echo \" \" >> options\n",
        "\n",
        "# This code snippet creates an options file to provide interactive options to the genion command in the subsequent step.\n",
        "# Now we have an atomic-level description of our system in the binary file ions.tpr. We will pass this file to genion:\n",
        "# When prompted, choose group 13 \"SOL\" for embedding ions.\n",
        "gmx genion -s ions.tpr -o 1AKI_solv_ions.gro -p topol.top -pname NA -nname CL -neutral < options\n",
        "\n",
        "\n",
        "# This code snippet utilizes the genion command to add ions (sodium and chloride) to the solvated system. The ions.tpr file, topology file (topol.top), and the options file are used as inputs. The -pname NA and -nname CL options specify the ion names as sodium (NA) and chloride (CL), respectively. The -neutral option ensures the system is neutralized.\n",
        "# Assemble the binary input using grompp using [](this) input parameter file:\n",
        "gmx grompp -f minim.mdp -c 1AKI_solv_ions.gro -p topol.top -o em.tpr\n",
        "\n",
        "# This code snippet prepares the system for energy minimization using the grompp command. The minim.mdp file, solvated and ionized structure (1AKI_solv_ions.gro), and topology file (topol.top) are used as inputs to generate the binary input file (em.tpr).\n",
        "#Using grompp to prepare our minimization MD\n",
        "gmx grompp -f minim.mdp -c 1AKI_solv_ions.gro -p topol.top -o em.tpr\n",
        "\n",
        "# This code snippet performs the same function as the previous snippet, preparing the system for energy minimization.\n",
        "gmx mdrun -v -deffnm em -nb gpu -ntmpi 1\n",
        "\n",
        "\n",
        "#This is a trick to provide interactive options to gmx\n",
        "echo \"Potential\" > options\n",
        "echo \" \" >> options\n",
        "\n",
        "# Let's do a bit of analysis. The em.edr file contains all of the energy terms that GROMACS collects during EM.\n",
        "# You can analyze any .edr file using the GROMACS energy module:\n",
        "gmx energy -f em.edr -o potential.xvg < options\n",
        "# At the prompt, type \"10 0\" to select Potential (10); zero (0) terminates input.\n",
        "\n",
        "\n",
        "# We will call grompp and mdrun just as we did at the EM step:\n",
        "gmx grompp -f nvt.mdp -c em.gro -r em.gro -p topol.top -o nvt.tpr\n",
        "gmx mdrun -deffnm nvt -nb gpu -ntmpi 1\n",
        "\n",
        "\n",
        "#This is a trick to provide interactive options to gmx\n",
        "echo \"Temperature\" > options\n",
        "echo \" \" >> options\n",
        "# Let's analyze the temperature progression, again using energy:\n",
        "gmx energy -f nvt.edr -o temperature.xvg < options\n",
        "# Type \"16 0\" at the prompt to select the temperature of the system and exit.\n",
        "\n",
        "\n",
        "# We will call grompp and mdrun just as we did for NVT equilibration.\n",
        "gmx grompp -f npt.mdp -c nvt.gro -r nvt.gro -t nvt.cpt -p topol.top -o npt.tpr\n",
        "gmx mdrun -deffnm npt -nb gpu -ntmpi 1\n",
        "\n",
        "\n",
        "\n",
        "# This is a trick to provide interactive options to gmx\n",
        "echo \"Pressure\" > options\n",
        "echo \" \" >> options\n",
        "# Let's analyze the pressure progression, again using energy:\n",
        "gmx energy -f npt.edr -o pressure.xvg < options\n",
        "# Type \"18 0\" at the prompt to select the pressure of the system and exit.\n",
        "\n",
        "\n",
        "\n",
        "#This is a trick to provide interactive options to gmx\n",
        "echo \"Density\" > options\n",
        "echo \" \" >> options\n",
        "\n",
        "# Let's take a look at density as well\n",
        "gmx energy -f npt.edr -o density.xvg < options\n",
        "# this time using energy and entering \"24 0\" at the prompt.\n",
        "\n",
        "\n"
      ]
    },
    {
      "cell_type": "markdown",
      "metadata": {
        "id": "_ORbTAllw4B2"
      },
      "source": [
        "# 05 Production MD"
      ]
    },
    {
      "cell_type": "code",
      "execution_count": null,
      "metadata": {
        "id": "gUcIx1F3w3iN"
      },
      "outputs": [],
      "source": [
        "# We will run a 1-ns MD simulation,\n",
        "%%bash\n",
        "source \"/content/drive/MyDrive/gmx/gromacs/bin/GMXRC\"\n",
        "gmx grompp -f md.mdp -c npt.gro -t npt.cpt -p topol.top -o md_0_1.tpr"
      ]
    },
    {
      "cell_type": "code",
      "execution_count": null,
      "metadata": {
        "id": "YNmRzwZWw15m"
      },
      "outputs": [],
      "source": [
        "# Assuming you have one GPU available, the mdrun command to make use of it is as simple as:\n",
        "%%bash\n",
        "source \"/content/drive/MyDrive/gmx/gromacs/bin/GMXRC\"\n",
        "gmx mdrun -deffnm md_0_1 -nb gpu -ntmpi 1"
      ]
    },
    {
      "cell_type": "markdown",
      "metadata": {
        "id": "-DJPPI0kxB-t"
      },
      "source": [
        "# 06 Appending Simulation:\n",
        "This code snippet performs the same function as the previous snippet, preparing the system for energy minimization."
      ]
    },
    {
      "cell_type": "code",
      "execution_count": null,
      "metadata": {
        "id": "SP3W_Dh_xHh9"
      },
      "outputs": [],
      "source": [
        "%%bash\n",
        "#Append\n",
        "source \"/content/drive/MyDrive/gmx/gromacs/bin/GMXRC\"\n",
        "gmx mdrun -v -cpi md_1.cpt -noappend -deffnm md_1 -gpu_id 0\n",
        "\n"
      ]
    },
    {
      "cell_type": "markdown",
      "metadata": {
        "id": "YFtwQNPmxEbu"
      },
      "source": [
        "# 07 Concatenation of XTC files:\n",
        "This code snippet concatenates multiple trajectory (XTC) files into a single trajectory file using the trjcat command. It combines the individual XTC files (md_1.xtc, md_1.part0002.xtc, etc.) and saves the concatenated trajectory as md_1_all.xtc."
      ]
    },
    {
      "cell_type": "code",
      "execution_count": null,
      "metadata": {
        "id": "GAVpi7MixOce"
      },
      "outputs": [],
      "source": [
        "%%bash\n",
        "#Concatenation of xtc files\n",
        "source \"/content/drive/MyDrive/gmx/gromacs/bin/GMXRC\"\n",
        "gmx trjcat -f md_1.xtc md_1.part0002.xtc md_1.part0003.xtc md_1.part0004.xtc md_1.part0005.xtc md_1.part0006.xtc md_1.part0007.xtc md_1.part0008.xtc md_1.part0009.xtc md_1.part0010.xtc md_1.part0011.xtc md_1.part0012.xtc md_1.part0013.xtc -o md_1_all.xtc\n"
      ]
    }
  ],
  "metadata": {
    "accelerator": "GPU",
    "colab": {
      "collapsed_sections": [
        "yxUn5xTysjP-"
      ],
      "gpuType": "T4",
      "provenance": [],
      "toc_visible": true
    },
    "kernelspec": {
      "display_name": "Python 3",
      "name": "python3"
    },
    "language_info": {
      "name": "python"
    }
  },
  "nbformat": 4,
  "nbformat_minor": 0
}
