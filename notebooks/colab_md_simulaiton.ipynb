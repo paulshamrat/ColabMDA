{
  "cells": [
    {
      "cell_type": "markdown",
      "metadata": {
        "id": "J-NKegw2sqE4"
      },
      "source": [
        "# 05 Colab MD Simulation"
      ]
    },
    {
      "cell_type": "code",
      "execution_count": null,
      "metadata": {
        "id": "gS-Ij0Sx0_9i"
      },
      "outputs": [],
      "source": [
        "# access permission and check if gromacs works\n",
        "%%bash\n",
        "chmod +x \"/content/drive/MyDrive/gmx/gromacs/bin/gmx\"\n",
        "source \"/content/drive/MyDrive/gmx/gromacs/bin/GMXRC\"\n",
        "gmx -h"
      ]
    },
    {
      "cell_type": "code",
      "execution_count": null,
      "metadata": {
        "id": "M-0sIgj9tvEx"
      },
      "outputs": [],
      "source": [
        "#Installing py3Dmol using pip\n",
        "!pip install py3Dmol\n",
        "\n",
        "#Importing py3Dmol for safety\n",
        "import py3Dmol\n",
        "\n",
        "#Installing biopython using pip\n",
        "!pip install biopython"
      ]
    },
    {
      "cell_type": "code",
      "execution_count": null,
      "metadata": {
        "colab": {
          "base_uri": "https://localhost:8080/",
          "height": 36
        },
        "id": "WPaTq_nTtLO-",
        "outputId": "adf43651-31d0-4230-cbd2-ab142694aac6"
      },
      "outputs": [],
      "source": [
        "# Check present working directory\n",
        "!pwd"
      ]
    },
    {
      "cell_type": "code",
      "execution_count": null,
      "metadata": {
        "colab": {
          "base_uri": "https://localhost:8080/"
        },
        "id": "4h2UJBKUssKv",
        "outputId": "bc51ef54-b73d-4824-b15e-40dae1fe7f9e"
      },
      "outputs": [],
      "source": [
        "# Change Working Directory\n",
        "import os\n",
        "dir = \"/content/drive/MyDrive/1aki/\"\n",
        "if not os.path.exists(dir):\n",
        "    os.makedirs(dir)\n",
        "%cd /content/drive/MyDrive/1aki/\n",
        "!pwd"
      ]
    },
    {
      "cell_type": "code",
      "execution_count": null,
      "metadata": {
        "id": "6d7DnVKctcWg"
      },
      "outputs": [],
      "source": [
        "# Download the mdp file first and make necessary changes in mdp parameters\n",
        "%%bash\n",
        "source \"/content/drive/MyDrive/gmx/gromacs/bin/GMXRC\"\n",
        "wget -O ions.mdp https://raw.githubusercontent.com/paulshamrat/ColabMDA/main/mdps/ions.mdp\n",
        "wget -O md.mdp https://raw.githubusercontent.com/paulshamrat/ColabMDA/main/mdps/md.mdp\n",
        "wget -O minim.mdp https://raw.githubusercontent.com/paulshamrat/ColabMDA/main/mdps/minim.mdp\n",
        "wget -O npt.mdp https://raw.githubusercontent.com/paulshamrat/ColabMDA/main/mdps/npt.mdp\n",
        "wget -O nvt.mdp https://raw.githubusercontent.com/paulshamrat/ColabMDA/main/mdps/nvt.mdp"
      ]
    },
    {
      "cell_type": "code",
      "execution_count": null,
      "metadata": {
        "id": "ZABK28c5tj_Q"
      },
      "outputs": [],
      "source": [
        "#Importing your PDB file using biopython\n",
        "import os\n",
        "from Bio.PDB import *\n",
        "pdbid = ['1aki']\n",
        "pdbl = PDBList()\n",
        "for s in pdbid:\n",
        "  pdbl.retrieve_pdb_file(s, pdir='.', file_format =\"pdb\", overwrite=True)\n",
        "  os.rename(\"pdb\"+s+\".ent\", s+\".pdb\")"
      ]
    },
    {
      "cell_type": "code",
      "execution_count": null,
      "metadata": {
        "colab": {
          "base_uri": "https://localhost:8080/"
        },
        "id": "0XYCT7kit5Wj",
        "outputId": "b562edf3-06ef-4265-c3c0-65575903bf6b"
      },
      "outputs": [],
      "source": [
        "# We will constantly need to source GMXRC for GROMACS to work\n",
        "%%bash\n",
        "source \"/content/drive/MyDrive/gmx/gromacs/bin/GMXRC\"\n",
        "\n",
        "\n",
        "# This code snippet sources the GROMACS environment (GMXRC) to ensure the necessary GROMACS commands are available for the subsequent steps of the MD simulation.\n",
        "grep -v HOH 1aki.pdb > 1AKI_clean.pdb\n",
        "\n",
        "# This code snippet removes water molecules (HOH) from the PDB file, resulting in a cleaned version of the protein structure without the solvent molecules.\n",
        "gmx pdb2gmx -f 1AKI_clean.pdb -o 1AKI_processed.gro -water spce -ignh -ff amber99sb-ildn\n",
        "\n",
        "# This code snippet uses the pdb2gmx command to convert the cleaned PDB file into a processed GROMACS GRO file. The -water spce option specifies the water model, -ignh ignores the hydrogen atoms in the PDB file, and -ff amber99sb-ildn specifies the force field to be used.\n",
        "gmx editconf -f 1AKI_processed.gro -o 1AKI_newbox.gro -c -d 1.0 -bt cubic\n",
        "\n",
        "# This code snippet utilizes the editconf command to add a simulation box around the protein. The -c option centers the protein in the box, -d 1.0 specifies the distance between the protein and the box edges, and -bt cubic specifies a cubic box shape.\n",
        "gmx solvate -cp 1AKI_newbox.gro -cs spc216.gro -o 1AKI_solv.gro -p topol.top\n",
        "\n",
        "# This code snippet uses the solvate command to add water molecules to the simulation box around the protein. The -cp option specifies the input coordinate file (the box with the protein), -cs specifies the input solvent coordinate file (water), -o specifies the output solvated structure file, and -p specifies the output topology file.\n",
        "gmx grompp -f ions.mdp -c 1AKI_solv.gro -p topol.top -o ions.tpr\n",
        "\n",
        "\n",
        "# This code snippet prepares the system for the addition of ions by running the grompp command. The ions.mdp file, solvated structure (1AKI_solv.gro), and topology file (topol.top) are used as inputs to generate the binary input file (ions.tpr).\n",
        "echo \"SOL\" > options\n",
        "echo \" \" >> options\n",
        "\n",
        "# This code snippet creates an options file to provide interactive options to the genion command in the subsequent step.\n",
        "# Now we have an atomic-level description of our system in the binary file ions.tpr. We will pass this file to genion:\n",
        "# When prompted, choose group 13 \"SOL\" for embedding ions.\n",
        "gmx genion -s ions.tpr -o 1AKI_solv_ions.gro -p topol.top -pname NA -nname CL -neutral < options\n",
        "\n",
        "\n",
        "# This code snippet utilizes the genion command to add ions (sodium and chloride) to the solvated system. The ions.tpr file, topology file (topol.top), and the options file are used as inputs. The -pname NA and -nname CL options specify the ion names as sodium (NA) and chloride (CL), respectively. The -neutral option ensures the system is neutralized.\n",
        "# Assemble the binary input using grompp using [](this) input parameter file:\n",
        "gmx grompp -f minim.mdp -c 1AKI_solv_ions.gro -p topol.top -o em.tpr\n",
        "\n",
        "# This code snippet prepares the system for energy minimization using the grompp command. The minim.mdp file, solvated and ionized structure (1AKI_solv_ions.gro), and topology file (topol.top) are used as inputs to generate the binary input file (em.tpr).\n",
        "#Using grompp to prepare our minimization MD\n",
        "gmx grompp -f minim.mdp -c 1AKI_solv_ions.gro -p topol.top -o em.tpr\n",
        "\n",
        "# This code snippet performs the same function as the previous snippet, preparing the system for energy minimization.\n",
        "gmx mdrun -v -deffnm em -nb gpu -ntmpi 1\n",
        "\n",
        "\n",
        "#This is a trick to provide interactive options to gmx\n",
        "echo \"Potential\" > options\n",
        "echo \" \" >> options\n",
        "\n",
        "# Let's do a bit of analysis. The em.edr file contains all of the energy terms that GROMACS collects during EM.\n",
        "# You can analyze any .edr file using the GROMACS energy module:\n",
        "gmx energy -f em.edr -o potential.xvg < options\n",
        "# At the prompt, type \"10 0\" to select Potential (10); zero (0) terminates input.\n",
        "\n",
        "\n",
        "# We will call grompp and mdrun just as we did at the EM step:\n",
        "gmx grompp -f nvt.mdp -c em.gro -r em.gro -p topol.top -o nvt.tpr\n",
        "gmx mdrun -deffnm nvt -nb gpu -ntmpi 1\n",
        "\n",
        "\n",
        "#This is a trick to provide interactive options to gmx\n",
        "echo \"Temperature\" > options\n",
        "echo \" \" >> options\n",
        "# Let's analyze the temperature progression, again using energy:\n",
        "gmx energy -f nvt.edr -o temperature.xvg < options\n",
        "# Type \"16 0\" at the prompt to select the temperature of the system and exit.\n",
        "\n",
        "\n",
        "# We will call grompp and mdrun just as we did for NVT equilibration.\n",
        "gmx grompp -f npt.mdp -c nvt.gro -r nvt.gro -t nvt.cpt -p topol.top -o npt.tpr\n",
        "gmx mdrun -deffnm npt -nb gpu -ntmpi 1\n",
        "\n",
        "\n",
        "\n",
        "# This is a trick to provide interactive options to gmx\n",
        "echo \"Pressure\" > options\n",
        "echo \" \" >> options\n",
        "# Let's analyze the pressure progression, again using energy:\n",
        "gmx energy -f npt.edr -o pressure.xvg < options\n",
        "# Type \"18 0\" at the prompt to select the pressure of the system and exit.\n",
        "\n",
        "\n",
        "\n",
        "#This is a trick to provide interactive options to gmx\n",
        "echo \"Density\" > options\n",
        "echo \" \" >> options\n",
        "\n",
        "# Let's take a look at density as well\n",
        "gmx energy -f npt.edr -o density.xvg < options\n",
        "# this time using energy and entering \"24 0\" at the prompt.\n",
        "\n",
        "\n"
      ]
    },
    {
      "cell_type": "code",
      "execution_count": null,
      "metadata": {
        "colab": {
          "base_uri": "https://localhost:8080/"
        },
        "id": "M2zbDtzPuFsf",
        "outputId": "0b9e8091-7607-4d3c-91b3-41c761e818f8"
      },
      "outputs": [],
      "source": [
        "# We will run a 1-ns MD simulation,\n",
        "%%bash\n",
        "source \"/content/drive/MyDrive/gmx/gromacs/bin/GMXRC\"\n",
        "gmx grompp -f md.mdp -c npt.gro -t npt.cpt -p topol.top -o md_0_1.tpr"
      ]
    },
    {
      "cell_type": "code",
      "execution_count": null,
      "metadata": {
        "colab": {
          "base_uri": "https://localhost:8080/"
        },
        "id": "_xywiuQouIWs",
        "outputId": "ba1bcc5f-9bdf-42bf-b3e0-0981da44014a"
      },
      "outputs": [],
      "source": [
        "# Assuming you have one GPU available, the mdrun command to make use of it is as simple as:\n",
        "%%bash\n",
        "source \"/content/drive/MyDrive/gmx/gromacs/bin/GMXRC\"\n",
        "gmx mdrun -deffnm md_0_1 -nb gpu -ntmpi 1"
      ]
    },
    {
      "cell_type": "code",
      "execution_count": null,
      "metadata": {
        "id": "l5WpY8_PuKOc"
      },
      "outputs": [],
      "source": [
        "# append\n",
        "%%bash\n",
        "source \"/content/drive/MyDrive/gmx/gromacs/bin/GMXRC\"\n",
        "gmx mdrun -v -cpi md_1.cpt -noappend -deffnm md_1 -gpu_id 0\n",
        "\n"
      ]
    },
    {
      "cell_type": "code",
      "execution_count": null,
      "metadata": {
        "id": "b0tO8Z1_uL_w"
      },
      "outputs": [],
      "source": [
        "#Concatenation of xtc files\n",
        "%%bash\n",
        "source \"/content/drive/MyDrive/gmx/gromacs/bin/GMXRC\"\n",
        "gmx trjcat -f md_1.xtc md_1.part0002.xtc md_1.part0003.xtc md_1.part0004.xtc md_1.part0005.xtc md_1.part0006.xtc md_1.part0007.xtc md_1.part0008.xtc md_1.part0009.xtc md_1.part0010.xtc md_1.part0011.xtc md_1.part0012.xtc md_1.part0013.xtc -o md_1_all.xtc\n"
      ]
    }
  ],
  "metadata": {
    "accelerator": "GPU",
    "colab": {
      "gpuType": "T4",
      "provenance": []
    },
    "kernelspec": {
      "display_name": "Python 3",
      "name": "python3"
    },
    "language_info": {
      "name": "python"
    }
  },
  "nbformat": 4,
  "nbformat_minor": 0
}
